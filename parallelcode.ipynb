{
  "cells": [
    {
      "cell_type": "markdown",
      "metadata": {
        "id": "ATVDZ-L62gSh"
      },
      "source": [
        "<h2 style='color:blue' align='center'>Small Image Classification Using Convolutional Neural Network (CNN)</h2>"
      ]
    },
    {
      "cell_type": "markdown",
      "metadata": {
        "id": "GgKUazls2gSi"
      },
      "source": [
        "In this notebook, we will classify small images cifar10 dataset from tensorflow keras datasets. There are total 10 classes as shown below. We will use CNN for classification"
      ]
    },
    {
      "cell_type": "markdown",
      "metadata": {
        "id": "H5oFFrdc6yri"
      },
      "source": [
        "***Code 1***"
      ]
    },
    {
      "cell_type": "code",
      "execution_count": null,
      "metadata": {
        "id": "roD51nf10-Cu"
      },
      "outputs": [],
      "source": [
        "import os\n",
        "# Define a directory to save preprocessed data\n",
        "PREPROCESSED_DATA_DIR = \"preprocessed_data\"\n",
        "\n",
        "# Ensure the directory exists\n",
        "os.makedirs(PREPROCESSED_DATA_DIR, exist_ok=True)\n",
        "\n",
        "# Function to load and preprocess data\n",
        "def load_and_preprocess_data(process_id):\n",
        "    # Load CIFAR-10 dataset\n",
        "    (X_train, y_train), (_, _) = tf.keras.datasets.cifar10.load_data()\n",
        "\n",
        "    # Preprocess data (normalize pixel values to range [0, 1] and convert labels to one-hot encoding)\n",
        "    X_train = X_train.astype('float32') / 255.0\n",
        "    y_train = tf.keras.utils.to_categorical(y_train, num_classes=10)\n",
        "\n",
        "    # Save preprocessed data to disk\n",
        "    np.savez_compressed(os.path.join(PREPROCESSED_DATA_DIR, f'data_{process_id}.npz'), X_train=X_train, y_train=y_train)\n",
        "\n",
        "    # Return the path to the preprocessed data file\n",
        "    return os.path.join(PREPROCESSED_DATA_DIR, f'data_{process_id}.npz')"
      ]
    },
    {
      "cell_type": "code",
      "execution_count": null,
      "metadata": {
        "colab": {
          "background_save": true,
          "base_uri": "https://localhost:8080/"
        },
        "id": "dbKvNUW6wd07",
        "outputId": "f04107d7-7aa3-4264-8137-52a35cd385f6"
      },
      "outputs": [
        {
          "name": "stdout",
          "output_type": "stream",
          "text": [
            "Downloading https://www.cs.toronto.edu/~kriz/cifar-10-python.tar.gz to ./data/cifar-10-python.tar.gz\n"
          ]
        },
        {
          "name": "stderr",
          "output_type": "stream",
          "text": [
            "100%|██████████| 170498071/170498071 [00:13<00:00, 12565243.30it/s]\n"
          ]
        },
        {
          "name": "stdout",
          "output_type": "stream",
          "text": [
            "Extracting ./data/cifar-10-python.tar.gz to ./data\n"
          ]
        },
        {
          "name": "stderr",
          "output_type": "stream",
          "text": [
            "/usr/local/lib/python3.10/dist-packages/torch/utils/data/dataloader.py:558: UserWarning: This DataLoader will create 4 worker processes in total. Our suggested max number of worker in current system is 2, which is smaller than what this DataLoader is going to create. Please be aware that excessive worker creation might get DataLoader running slow or even freeze, lower the worker number to avoid potential slowness/freeze if necessary.\n",
            "  warnings.warn(_create_warning_msg(\n"
          ]
        },
        {
          "name": "stdout",
          "output_type": "stream",
          "text": [
            "cuda\n",
            "Let's use 1 GPUs!\n",
            "----------------------------------------------------------------\n",
            "        Layer (type)               Output Shape         Param #\n",
            "================================================================\n",
            "            Conv2d-1           [-1, 32, 32, 32]             896\n",
            "       BatchNorm2d-2           [-1, 32, 32, 32]              64\n",
            "              ReLU-3           [-1, 32, 32, 32]               0\n",
            "            Conv2d-4           [-1, 64, 32, 32]          18,496\n",
            "       BatchNorm2d-5           [-1, 64, 32, 32]             128\n",
            "              ReLU-6           [-1, 64, 32, 32]               0\n",
            "            Conv2d-7           [-1, 64, 32, 32]          36,928\n",
            "       BatchNorm2d-8           [-1, 64, 32, 32]             128\n",
            "              ReLU-9           [-1, 64, 32, 32]               0\n",
            "           Conv2d-10           [-1, 64, 32, 32]          36,928\n",
            "      BatchNorm2d-11           [-1, 64, 32, 32]             128\n",
            "             ReLU-12           [-1, 64, 32, 32]               0\n",
            "           Conv2d-13           [-1, 64, 32, 32]          36,928\n",
            "      BatchNorm2d-14           [-1, 64, 32, 32]             128\n",
            "             ReLU-15           [-1, 64, 32, 32]               0\n",
            "           Conv2d-16           [-1, 64, 32, 32]          36,928\n",
            "      BatchNorm2d-17           [-1, 64, 32, 32]             128\n",
            "             ReLU-18           [-1, 64, 32, 32]               0\n",
            "           Conv2d-19          [-1, 128, 32, 32]          73,856\n",
            "      BatchNorm2d-20          [-1, 128, 32, 32]             256\n",
            "             ReLU-21          [-1, 128, 32, 32]               0\n",
            "           Conv2d-22          [-1, 128, 32, 32]         147,584\n",
            "      BatchNorm2d-23          [-1, 128, 32, 32]             256\n",
            "             ReLU-24          [-1, 128, 32, 32]               0\n",
            "        MaxPool2d-25          [-1, 128, 16, 16]               0\n",
            "AdaptiveAvgPool2d-26            [-1, 128, 1, 1]               0\n",
            "           Linear-27                   [-1, 10]           1,290\n",
            "     MiniXception-28                   [-1, 10]               0\n",
            "================================================================\n",
            "Total params: 391,050\n",
            "Trainable params: 391,050\n",
            "Non-trainable params: 0\n",
            "----------------------------------------------------------------\n",
            "Input size (MB): 0.01\n",
            "Forward/backward pass size (MB): 14.50\n",
            "Params size (MB): 1.49\n",
            "Estimated Total Size (MB): 16.00\n",
            "----------------------------------------------------------------\n"
          ]
        },
        {
          "name": "stderr",
          "output_type": "stream",
          "text": [
            "/usr/lib/python3.10/multiprocessing/popen_fork.py:66: RuntimeWarning: os.fork() was called. os.fork() is incompatible with multithreaded code, and JAX is multithreaded, so this will likely lead to a deadlock.\n",
            "  self.pid = os.fork()\n"
          ]
        },
        {
          "name": "stdout",
          "output_type": "stream",
          "text": [
            "Epoch [1/20], Loss: 1.3914, Accuracy: 49.18%, Time: 36.80 seconds\n",
            "Epoch [2/20], Loss: 1.0095, Accuracy: 63.75%, Time: 33.76 seconds\n",
            "Epoch [3/20], Loss: 0.8466, Accuracy: 70.09%, Time: 34.05 seconds\n",
            "Epoch [4/20], Loss: 0.7385, Accuracy: 74.07%, Time: 35.27 seconds\n",
            "Epoch [5/20], Loss: 0.6607, Accuracy: 76.66%, Time: 33.57 seconds\n",
            "Epoch [6/20], Loss: 0.5937, Accuracy: 79.32%, Time: 34.12 seconds\n",
            "Epoch [7/20], Loss: 0.5371, Accuracy: 81.32%, Time: 33.37 seconds\n",
            "Epoch [8/20], Loss: 0.4906, Accuracy: 82.98%, Time: 33.84 seconds\n",
            "Epoch [9/20], Loss: 0.4517, Accuracy: 84.50%, Time: 33.53 seconds\n",
            "Epoch [10/20], Loss: 0.4159, Accuracy: 85.78%, Time: 33.50 seconds\n",
            "Epoch [11/20], Loss: 0.3851, Accuracy: 86.71%, Time: 34.13 seconds\n",
            "Epoch [12/20], Loss: 0.3552, Accuracy: 87.51%, Time: 33.33 seconds\n",
            "Epoch [13/20], Loss: 0.3266, Accuracy: 88.56%, Time: 34.05 seconds\n",
            "Epoch [14/20], Loss: 0.3052, Accuracy: 89.43%, Time: 33.89 seconds\n",
            "Epoch [15/20], Loss: 0.2831, Accuracy: 90.17%, Time: 33.87 seconds\n",
            "Epoch [16/20], Loss: 0.2580, Accuracy: 90.94%, Time: 33.46 seconds\n",
            "Epoch [17/20], Loss: 0.2337, Accuracy: 91.70%, Time: 33.46 seconds\n",
            "Epoch [18/20], Loss: 0.2222, Accuracy: 92.25%, Time: 33.64 seconds\n",
            "Epoch [19/20], Loss: 0.2000, Accuracy: 92.99%, Time: 33.35 seconds\n",
            "Epoch [20/20], Loss: 0.1899, Accuracy: 93.34%, Time: 33.76 seconds\n",
            "Finished Training\n"
          ]
        }
      ],
      "source": [
        "import torch\n",
        "import torch.nn as nn\n",
        "import torch.optim as optim\n",
        "import torchvision.transforms as transforms\n",
        "import torchvision.datasets as datasets\n",
        "from torch.utils.data import DataLoader\n",
        "from torchsummary import summary\n",
        "import os\n",
        "\n",
        "# Set the environment variable\n",
        "os.environ['OMP_NUM_THREADS'] = '2'\n",
        "\n",
        "\n",
        "# Define MiniXception model using PyTorch\n",
        "class MiniXception(nn.Module):\n",
        "    def __init__(self, num_classes):\n",
        "        super(MiniXception, self).__init__()\n",
        "        # Define layers similar to the Keras implementation\n",
        "        self.conv1 = nn.Conv2d(3, 32, kernel_size=3, stride=1, padding=1)\n",
        "        self.bn1 = nn.BatchNorm2d(32)\n",
        "        self.relu1 = nn.ReLU(inplace=True)\n",
        "        self.conv2 = nn.Conv2d(32, 64, kernel_size=3, stride=1, padding=1)\n",
        "        self.bn2 = nn.BatchNorm2d(64)\n",
        "        self.relu2 = nn.ReLU(inplace=True)\n",
        "        self.middle_flow = self._make_middle_flow(64)\n",
        "        self.exit_flow = self._make_exit_flow(64, 128)\n",
        "        self.avg_pool = nn.AdaptiveAvgPool2d((1, 1))\n",
        "        self.fc = nn.Linear(128, num_classes)\n",
        "\n",
        "    def _make_middle_flow(self, channels):\n",
        "        layers = []\n",
        "        for _ in range(4):\n",
        "            layers.append(nn.Conv2d(channels, channels, kernel_size=3, padding=1))\n",
        "            layers.append(nn.BatchNorm2d(channels))\n",
        "            layers.append(nn.ReLU(inplace=True))\n",
        "        return nn.Sequential(*layers)\n",
        "\n",
        "    def _make_exit_flow(self, in_channels, out_channels):\n",
        "        layers = [\n",
        "            nn.Conv2d(in_channels, out_channels, kernel_size=3, padding=1),\n",
        "            nn.BatchNorm2d(out_channels),\n",
        "            nn.ReLU(inplace=True),\n",
        "            nn.Conv2d(out_channels, out_channels, kernel_size=3, padding=1),\n",
        "            nn.BatchNorm2d(out_channels),\n",
        "            nn.ReLU(inplace=True),\n",
        "            nn.MaxPool2d(kernel_size=3, stride=2, padding=1)\n",
        "        ]\n",
        "        return nn.Sequential(*layers)\n",
        "\n",
        "    def forward(self, x):\n",
        "        x = self.conv1(x)\n",
        "        x = self.bn1(x)\n",
        "        x = self.relu1(x)\n",
        "        x = self.conv2(x)\n",
        "        x = self.bn2(x)\n",
        "        x = self.relu2(x)\n",
        "        x = self.middle_flow(x)\n",
        "        x = self.exit_flow(x)\n",
        "        x = self.avg_pool(x)\n",
        "        x = x.view(x.size(0), -1)\n",
        "        x = self.fc(x)\n",
        "        return x\n",
        "\n",
        "# Define transforms\n",
        "transform = transforms.Compose([\n",
        "    transforms.Resize((32, 32)),  # Resize images to 32x32\n",
        "    transforms.ToTensor(),         # Convert PIL Image to tensor\n",
        "    transforms.Normalize(mean=[0.5, 0.5, 0.5], std=[0.5, 0.5, 0.5])  # Normalize images\n",
        "])\n",
        "\n",
        "# Load CIFAR-10 training dataset\n",
        "train_dataset = datasets.CIFAR10(root='./data', train=True, download=True, transform=transform)\n",
        "\n",
        "# Define your batch size\n",
        "batch_size = 64\n",
        "\n",
        "# Define your training data loader with multi-threading enabled\n",
        "train_loader = DataLoader(train_dataset, batch_size=batch_size, shuffle=True, num_workers=4)\n",
        "\n",
        "# Specify the number of epochs for training\n",
        "num_epochs = 20\n",
        "\n",
        "# Initialize MiniXception model\n",
        "model = MiniXception(num_classes=10)\n",
        "\n",
        "# Check if CUDA is available and move model to GPU\n",
        "device = torch.device(\"cuda\" if torch.cuda.is_available() else \"cpu\")\n",
        "if torch.cuda.is_available() :\n",
        "  print('cuda')\n",
        "if torch.cuda.device_count() == 1:\n",
        "    print(\"Let's use\", torch.cuda.device_count(), \"GPUs!\")\n",
        "    model = nn.DataParallel(model)\n",
        "model.to(device)\n",
        "\n",
        "# Print model summary\n",
        "summary(model, (3, 32, 32))\n",
        "\n",
        "# Define loss function and optimizer\n",
        "criterion = nn.CrossEntropyLoss()\n",
        "optimizer = optim.Adam(model.parameters(), lr=0.001)\n",
        "import time\n",
        "\n",
        "# Train the model\n",
        "for epoch in range(num_epochs):\n",
        "    start_time = time.time()  # Record the start time of the epoch\n",
        "    running_loss = 0.0\n",
        "    correct = 0\n",
        "    total = 0\n",
        "\n",
        "    for i, (inputs, labels) in enumerate(train_loader):\n",
        "        inputs, labels = inputs.to(device), labels.to(device)\n",
        "        optimizer.zero_grad()\n",
        "        outputs = model(inputs)\n",
        "        loss = criterion(outputs, labels)\n",
        "        loss.backward()\n",
        "        optimizer.step()\n",
        "        running_loss += loss.item()\n",
        "        _, predicted = torch.max(outputs.data, 1)\n",
        "        total += labels.size(0)\n",
        "        correct += (predicted == labels).sum().item()\n",
        "\n",
        "    epoch_loss = running_loss / len(train_loader)\n",
        "    epoch_accuracy = 100 * correct / total\n",
        "    epoch_time = time.time() - start_time  # Calculate epoch time\n",
        "    print(f\"Epoch [{epoch+1}/{num_epochs}], Loss: {epoch_loss:.4f}, Accuracy: {epoch_accuracy:.2f}%, Time: {epoch_time:.2f} seconds\")\n",
        "\n",
        "print('Finished Training')"
      ]
    },
    {
      "cell_type": "markdown",
      "metadata": {
        "id": "23y6-pde64_s"
      },
      "source": [
        "***Code 2***"
      ]
    },
    {
      "cell_type": "markdown",
      "metadata": {
        "id": "BLr6UDKQ2gSi"
      },
      "source": [
        "<img src=\"small_images.jpg\" />"
      ]
    },
    {
      "cell_type": "code",
      "execution_count": null,
      "metadata": {
        "colab": {
          "background_save": true
        },
        "id": "WgVKzfB32gSi"
      },
      "outputs": [],
      "source": [
        "import tensorflow as tf\n",
        "from tensorflow.keras import datasets, layers, models\n",
        "import matplotlib.pyplot as plt\n",
        "import numpy as np"
      ]
    },
    {
      "cell_type": "markdown",
      "metadata": {
        "id": "uErqB0r_2gSi"
      },
      "source": [
        "<h4 style=\"color:purple\">Load the dataset</h4>"
      ]
    },
    {
      "cell_type": "code",
      "execution_count": null,
      "metadata": {
        "colab": {
          "background_save": true
        },
        "id": "dcP3hnBQ2gSj",
        "outputId": "79fba52c-e277-4b4b-90bf-aaa59a405ef5"
      },
      "outputs": [
        {
          "name": "stdout",
          "output_type": "stream",
          "text": [
            "Downloading data from https://www.cs.toronto.edu/~kriz/cifar-10-python.tar.gz\n",
            "170498071/170498071 [==============================] - 13s 0us/step\n"
          ]
        },
        {
          "data": {
            "text/plain": [
              "(50000, 32, 32, 3)"
            ]
          },
          "execution_count": 4,
          "metadata": {},
          "output_type": "execute_result"
        }
      ],
      "source": [
        "(X_train, y_train), (X_test,y_test) = datasets.cifar10.load_data()\n",
        "X_train.shape"
      ]
    },
    {
      "cell_type": "code",
      "execution_count": null,
      "metadata": {
        "colab": {
          "background_save": true
        },
        "id": "6hDcfTJZ2gSj",
        "outputId": "bd161f34-fa16-4d49-fba5-85cfa78c7b75"
      },
      "outputs": [
        {
          "data": {
            "text/plain": [
              "(10000, 32, 32, 3)"
            ]
          },
          "execution_count": 5,
          "metadata": {},
          "output_type": "execute_result"
        }
      ],
      "source": [
        "X_test.shape"
      ]
    },
    {
      "cell_type": "markdown",
      "metadata": {
        "id": "CGl-6Ra12gSj"
      },
      "source": [
        "Here we see there are 50000 training images and 1000 test images"
      ]
    },
    {
      "cell_type": "code",
      "execution_count": null,
      "metadata": {
        "colab": {
          "background_save": true
        },
        "id": "7QdKgQNg2gSj",
        "outputId": "b942ca01-d21a-49e4-8b6a-acc34e08594f"
      },
      "outputs": [
        {
          "data": {
            "text/plain": [
              "(50000, 1)"
            ]
          },
          "execution_count": 6,
          "metadata": {},
          "output_type": "execute_result"
        }
      ],
      "source": [
        "y_train.shape"
      ]
    },
    {
      "cell_type": "code",
      "execution_count": null,
      "metadata": {
        "colab": {
          "background_save": true
        },
        "id": "lLhkk6XX2gSj",
        "outputId": "ec5ee37e-aa65-4bf3-a12d-589a6e66cce2"
      },
      "outputs": [
        {
          "data": {
            "text/plain": [
              "array([[6],\n",
              "       [9],\n",
              "       [9],\n",
              "       [4],\n",
              "       [1]], dtype=uint8)"
            ]
          },
          "execution_count": 7,
          "metadata": {},
          "output_type": "execute_result"
        }
      ],
      "source": [
        "y_train[:5]"
      ]
    },
    {
      "cell_type": "markdown",
      "metadata": {
        "id": "22dJXe7f2gSj"
      },
      "source": [
        "y_train is a 2D array, for our classification having 1D array is good enough. so we will convert this to now 1D array"
      ]
    },
    {
      "cell_type": "code",
      "execution_count": null,
      "metadata": {
        "colab": {
          "background_save": true
        },
        "id": "zF7zl9PN2gSk",
        "scrolled": true,
        "outputId": "711b4808-aeb2-4313-bb29-f79e614be4a5"
      },
      "outputs": [
        {
          "data": {
            "text/plain": [
              "array([6, 9, 9, 4, 1], dtype=uint8)"
            ]
          },
          "execution_count": 8,
          "metadata": {},
          "output_type": "execute_result"
        }
      ],
      "source": [
        "y_train = y_train.reshape(-1,)\n",
        "y_train[:5]"
      ]
    },
    {
      "cell_type": "code",
      "execution_count": null,
      "metadata": {
        "colab": {
          "background_save": true
        },
        "id": "Py3bmPT92gSk"
      },
      "outputs": [],
      "source": [
        "y_test = y_test.reshape(-1,)"
      ]
    },
    {
      "cell_type": "code",
      "execution_count": null,
      "metadata": {
        "colab": {
          "background_save": true
        },
        "id": "j75TsZhA2gSk"
      },
      "outputs": [],
      "source": [
        "classes = [\"airplane\",\"automobile\",\"bird\",\"cat\",\"deer\",\"dog\",\"frog\",\"horse\",\"ship\",\"truck\"]"
      ]
    },
    {
      "cell_type": "markdown",
      "metadata": {
        "id": "a8kBBf992gSk"
      },
      "source": [
        "Let's plot some images to see what they are"
      ]
    },
    {
      "cell_type": "code",
      "execution_count": null,
      "metadata": {
        "colab": {
          "background_save": true
        },
        "id": "P9dN17FG2gSk"
      },
      "outputs": [],
      "source": [
        "def plot_sample(X, y, index):\n",
        "    plt.figure(figsize = (15,2))\n",
        "    plt.imshow(X[index])\n",
        "    plt.xlabel(classes[y[index]])"
      ]
    },
    {
      "cell_type": "code",
      "execution_count": null,
      "metadata": {
        "colab": {
          "background_save": true
        },
        "id": "QaQMkRmC2gSl",
        "scrolled": true,
        "outputId": "92363859-1b7a-4c35-e9f5-d9f11631ebcd"
      },
      "outputs": [
        {
          "data": {
            "image/png": "[encoded data removed]",
            "text/plain": [
              "<Figure size 1500x200 with 1 Axes>"
            ]
          },
          "metadata": {},
          "output_type": "display_data"
        }
      ],
      "source": [
        "plot_sample(X_train, y_train, 0)"
      ]
    },
    {
      "cell_type": "code",
      "execution_count": null,
      "metadata": {
        "colab": {
          "background_save": true
        },
        "id": "9Pal9QRx2gSl",
        "outputId": "8e2228bc-ec96-4972-b2c2-1d3137acce93"
      },
      "outputs": [
        {
          "data": {
            "image/png": "[encoded data removed]",
            "text/plain": [
              "<Figure size 1500x200 with 1 Axes>"
            ]
          },
          "metadata": {},
          "output_type": "display_data"
        }
      ],
      "source": [
        "plot_sample(X_train, y_train, 1)"
      ]
    },
    {
      "cell_type": "markdown",
      "metadata": {
        "id": "Hi5Obcdj2gSl"
      },
      "source": [
        "Normalize the images to a number from 0 to 1. Image has 3 channels (R,G,B) and each value in the channel can range from 0 to 255. Hence to normalize in 0-->1 range, we need to divide it by 255"
      ]
    },
    {
      "cell_type": "markdown",
      "metadata": {
        "id": "XtW1x8Q_2gSl"
      },
      "source": [
        "<h4 style=\"color:purple\">Normalizing the training data</h4>"
      ]
    },
    {
      "cell_type": "code",
      "execution_count": null,
      "metadata": {
        "colab": {
          "background_save": true
        },
        "id": "VRvYUIqW2gSl"
      },
      "outputs": [],
      "source": [
        "X_train = X_train / 255.0\n",
        "X_test = X_test / 255.0"
      ]
    },
    {
      "cell_type": "markdown",
      "metadata": {
        "id": "_EbrAYps2gSm"
      },
      "source": [
        "<h4 style=\"color:purple\">Now let us build a convolutional neural network to train our images</h4>"
      ]
    },
    {
      "cell_type": "code",
      "execution_count": null,
      "metadata": {
        "colab": {
          "background_save": true
        },
        "id": "hlK-uTdD2gSm",
        "outputId": "ecfd8a35-f286-4ca9-e3a7-68202f5a39a2"
      },
      "outputs": [
        {
          "name": "stdout",
          "output_type": "stream",
          "text": [
            "Model: \"model\"\n",
            "__________________________________________________________________________________________________\n",
            " Layer (type)                Output Shape                 Param #   Connected to                  \n",
            "==================================================================================================\n",
            " input_1 (InputLayer)        [(None, 32, 32, 3)]          0         []                            \n",
            "                                                                                                  \n",
            " conv2d (Conv2D)             (None, 32, 32, 32)           896       ['input_1[0][0]']             \n",
            "                                                                                                  \n",
            " batch_normalization (Batch  (None, 32, 32, 32)           128       ['conv2d[0][0]']              \n",
            " Normalization)                                                                                   \n",
            "                                                                                                  \n",
            " activation (Activation)     (None, 32, 32, 32)           0         ['batch_normalization[0][0]'] \n",
            "                                                                                                  \n",
            " conv2d_1 (Conv2D)           (None, 32, 32, 64)           18496     ['activation[0][0]']          \n",
            "                                                                                                  \n",
            " batch_normalization_1 (Bat  (None, 32, 32, 64)           256       ['conv2d_1[0][0]']            \n",
            " chNormalization)                                                                                 \n",
            "                                                                                                  \n",
            " activation_1 (Activation)   (None, 32, 32, 64)           0         ['batch_normalization_1[0][0]'\n",
            "                                                                    ]                             \n",
            "                                                                                                  \n",
            " separable_conv2d (Separabl  (None, 32, 32, 64)           4736      ['activation_1[0][0]']        \n",
            " eConv2D)                                                                                         \n",
            "                                                                                                  \n",
            " batch_normalization_2 (Bat  (None, 32, 32, 64)           256       ['separable_conv2d[0][0]']    \n",
            " chNormalization)                                                                                 \n",
            "                                                                                                  \n",
            " activation_2 (Activation)   (None, 32, 32, 64)           0         ['batch_normalization_2[0][0]'\n",
            "                                                                    ]                             \n",
            "                                                                                                  \n",
            " separable_conv2d_1 (Separa  (None, 32, 32, 64)           4736      ['activation_2[0][0]']        \n",
            " bleConv2D)                                                                                       \n",
            "                                                                                                  \n",
            " batch_normalization_3 (Bat  (None, 32, 32, 64)           256       ['separable_conv2d_1[0][0]']  \n",
            " chNormalization)                                                                                 \n",
            "                                                                                                  \n",
            " add (Add)                   (None, 32, 32, 64)           0         ['batch_normalization_3[0][0]'\n",
            "                                                                    , 'activation_1[0][0]']       \n",
            "                                                                                                  \n",
            " separable_conv2d_2 (Separa  (None, 32, 32, 64)           4736      ['add[0][0]']                 \n",
            " bleConv2D)                                                                                       \n",
            "                                                                                                  \n",
            " batch_normalization_4 (Bat  (None, 32, 32, 64)           256       ['separable_conv2d_2[0][0]']  \n",
            " chNormalization)                                                                                 \n",
            "                                                                                                  \n",
            " activation_3 (Activation)   (None, 32, 32, 64)           0         ['batch_normalization_4[0][0]'\n",
            "                                                                    ]                             \n",
            "                                                                                                  \n",
            " separable_conv2d_3 (Separa  (None, 32, 32, 64)           4736      ['activation_3[0][0]']        \n",
            " bleConv2D)                                                                                       \n",
            "                                                                                                  \n",
            " batch_normalization_5 (Bat  (None, 32, 32, 64)           256       ['separable_conv2d_3[0][0]']  \n",
            " chNormalization)                                                                                 \n",
            "                                                                                                  \n",
            " add_1 (Add)                 (None, 32, 32, 64)           0         ['batch_normalization_5[0][0]'\n",
            "                                                                    , 'add[0][0]']                \n",
            "                                                                                                  \n",
            " separable_conv2d_4 (Separa  (None, 32, 32, 64)           4736      ['add_1[0][0]']               \n",
            " bleConv2D)                                                                                       \n",
            "                                                                                                  \n",
            " batch_normalization_6 (Bat  (None, 32, 32, 64)           256       ['separable_conv2d_4[0][0]']  \n",
            " chNormalization)                                                                                 \n",
            "                                                                                                  \n",
            " activation_4 (Activation)   (None, 32, 32, 64)           0         ['batch_normalization_6[0][0]'\n",
            "                                                                    ]                             \n",
            "                                                                                                  \n",
            " separable_conv2d_5 (Separa  (None, 32, 32, 64)           4736      ['activation_4[0][0]']        \n",
            " bleConv2D)                                                                                       \n",
            "                                                                                                  \n",
            " batch_normalization_7 (Bat  (None, 32, 32, 64)           256       ['separable_conv2d_5[0][0]']  \n",
            " chNormalization)                                                                                 \n",
            "                                                                                                  \n",
            " add_2 (Add)                 (None, 32, 32, 64)           0         ['batch_normalization_7[0][0]'\n",
            "                                                                    , 'add_1[0][0]']              \n",
            "                                                                                                  \n",
            " separable_conv2d_6 (Separa  (None, 32, 32, 64)           4736      ['add_2[0][0]']               \n",
            " bleConv2D)                                                                                       \n",
            "                                                                                                  \n",
            " batch_normalization_8 (Bat  (None, 32, 32, 64)           256       ['separable_conv2d_6[0][0]']  \n",
            " chNormalization)                                                                                 \n",
            "                                                                                                  \n",
            " activation_5 (Activation)   (None, 32, 32, 64)           0         ['batch_normalization_8[0][0]'\n",
            "                                                                    ]                             \n",
            "                                                                                                  \n",
            " separable_conv2d_7 (Separa  (None, 32, 32, 64)           4736      ['activation_5[0][0]']        \n",
            " bleConv2D)                                                                                       \n",
            "                                                                                                  \n",
            " batch_normalization_9 (Bat  (None, 32, 32, 64)           256       ['separable_conv2d_7[0][0]']  \n",
            " chNormalization)                                                                                 \n",
            "                                                                                                  \n",
            " add_3 (Add)                 (None, 32, 32, 64)           0         ['batch_normalization_9[0][0]'\n",
            "                                                                    , 'add_2[0][0]']              \n",
            "                                                                                                  \n",
            " separable_conv2d_8 (Separa  (None, 32, 32, 128)          8896      ['add_3[0][0]']               \n",
            " bleConv2D)                                                                                       \n",
            "                                                                                                  \n",
            " batch_normalization_10 (Ba  (None, 32, 32, 128)          512       ['separable_conv2d_8[0][0]']  \n",
            " tchNormalization)                                                                                \n",
            "                                                                                                  \n",
            " activation_6 (Activation)   (None, 32, 32, 128)          0         ['batch_normalization_10[0][0]\n",
            "                                                                    ']                            \n",
            "                                                                                                  \n",
            " separable_conv2d_9 (Separa  (None, 32, 32, 128)          17664     ['activation_6[0][0]']        \n",
            " bleConv2D)                                                                                       \n",
            "                                                                                                  \n",
            " batch_normalization_11 (Ba  (None, 32, 32, 128)          512       ['separable_conv2d_9[0][0]']  \n",
            " tchNormalization)                                                                                \n",
            "                                                                                                  \n",
            " activation_7 (Activation)   (None, 32, 32, 128)          0         ['batch_normalization_11[0][0]\n",
            "                                                                    ']                            \n",
            "                                                                                                  \n",
            " max_pooling2d (MaxPooling2  (None, 16, 16, 128)          0         ['activation_7[0][0]']        \n",
            " D)                                                                                               \n",
            "                                                                                                  \n",
            " global_average_pooling2d (  (None, 128)                  0         ['max_pooling2d[0][0]']       \n",
            " GlobalAveragePooling2D)                                                                          \n",
            "                                                                                                  \n",
            " dense (Dense)               (None, 64)                   8256      ['global_average_pooling2d[0][\n",
            "                                                                    0]']                          \n",
            "                                                                                                  \n",
            " dense_1 (Dense)             (None, 10)                   650       ['dense[0][0]']               \n",
            "                                                                                                  \n",
            "==================================================================================================\n",
            "Total params: 96202 (375.79 KB)\n",
            "Trainable params: 94474 (369.04 KB)\n",
            "Non-trainable params: 1728 (6.75 KB)\n",
            "__________________________________________________________________________________________________\n"
          ]
        }
      ],
      "source": [
        "import tensorflow as tf\n",
        "from tensorflow.keras import layers\n",
        "from tensorflow.keras.layers import Input, Conv2D, BatchNormalization, Activation, SeparableConv2D, MaxPooling2D, GlobalAveragePooling2D, Dense\n",
        "from tensorflow.keras.models import Model\n",
        "\n",
        "def MiniXception(input_shape, num_classes):\n",
        "\n",
        "    # Use MirroredStrategy for synchronous distributed training\n",
        "    strategy = tf.distribute.MirroredStrategy()\n",
        "\n",
        "    with strategy.scope():\n",
        "        inputs = Input(shape=input_shape)\n",
        "\n",
        "        # Entry Flow\n",
        "        x = Conv2D(32, (3, 3), strides=(1, 1), padding='same')(inputs)\n",
        "        x = BatchNormalization()(x)\n",
        "        x = Activation('relu')(x)\n",
        "        x = Conv2D(64, (3, 3), strides=(1, 1), padding='same')(x)\n",
        "        x = BatchNormalization()(x)\n",
        "        x = Activation('relu')(x)\n",
        "\n",
        "        # Middle Flow\n",
        "        for _ in range(4):\n",
        "            residual = x\n",
        "            x = SeparableConv2D(64, (3, 3), strides=(1, 1), padding='same')(x)\n",
        "            x = BatchNormalization()(x)\n",
        "            x = Activation('relu')(x)\n",
        "            x = SeparableConv2D(64, (3, 3), strides=(1, 1), padding='same')(x)\n",
        "            x = BatchNormalization()(x)\n",
        "            x = layers.add([x, residual])\n",
        "\n",
        "        # Exit Flow\n",
        "        x = SeparableConv2D(128, (3, 3), strides=(1, 1), padding='same')(x)\n",
        "        x = BatchNormalization()(x)\n",
        "        x = Activation('relu')(x)\n",
        "        x = SeparableConv2D(128, (3, 3), strides=(1, 1), padding='same')(x)\n",
        "        x = BatchNormalization()(x)\n",
        "        x = Activation('relu')(x)\n",
        "        x = MaxPooling2D((3, 3), strides=(2, 2), padding='same')(x)\n",
        "\n",
        "        x = GlobalAveragePooling2D()(x)\n",
        "\n",
        "        # Fully connected layer\n",
        "        x = Dense(64, activation='relu')(x)\n",
        "        outputs = Dense(num_classes, activation='softmax')(x)\n",
        "\n",
        "        model = Model(inputs, outputs)\n",
        "        return model\n",
        "\n",
        "# Initialize MiniXception\n",
        "cnn = MiniXception(input_shape=(32, 32, 3), num_classes=10)\n",
        "cnn.summary()\n",
        "\n",
        "\n",
        "\n"
      ]
    },
    {
      "cell_type": "code",
      "execution_count": null,
      "metadata": {
        "colab": {
          "background_save": true
        },
        "id": "FXYiUtSO2gSm"
      },
      "outputs": [],
      "source": [
        "cnn.compile(optimizer='adam',\n",
        "              loss='sparse_categorical_crossentropy',\n",
        "              metrics=['accuracy'])"
      ]
    },
    {
      "cell_type": "code",
      "execution_count": 17,
      "metadata": {
        "id": "CWsF3c492gSm",
        "colab": {
          "base_uri": "https://localhost:8080/"
        },
        "outputId": "248c7362-aac1-47f3-80e0-833e6a746500"
      },
      "outputs": [
        {
          "metadata": {
            "tags": null
          },
          "name": "stderr",
          "output_type": "stream",
          "text": [
            "WARNING:tensorflow:Keras is training/fitting/evaluating on array-like data. Keras may not be optimized for this format, so if your input data format is supported by TensorFlow I/O (https://github.com/tensorflow/io) we recommend using that to load a Dataset instead.\n"
          ]
        },
        {
          "output_type": "stream",
          "name": "stdout",
          "text": [
            "Epoch 1/20\n",
            "1250/1250 [==============================] - 48s 28ms/step - loss: 1.4403 - accuracy: 0.4662\n",
            "Epoch 2/20\n",
            "1250/1250 [==============================] - 36s 29ms/step - loss: 1.0655 - accuracy: 0.6161\n",
            "Epoch 3/20\n",
            "1250/1250 [==============================] - 36s 29ms/step - loss: 0.9212 - accuracy: 0.6724\n",
            "Epoch 4/20\n",
            "1250/1250 [==============================] - 35s 28ms/step - loss: 0.8211 - accuracy: 0.7108\n",
            "Epoch 5/20\n",
            "1250/1250 [==============================] - 36s 29ms/step - loss: 0.7472 - accuracy: 0.7404\n",
            "Epoch 6/20\n",
            "1250/1250 [==============================] - 36s 29ms/step - loss: 0.6798 - accuracy: 0.7627\n",
            "Epoch 7/20\n",
            "1250/1250 [==============================] - 35s 28ms/step - loss: 0.6286 - accuracy: 0.7784\n",
            "Epoch 8/20\n",
            "1250/1250 [==============================] - 36s 29ms/step - loss: 0.5815 - accuracy: 0.7969\n",
            "Epoch 9/20\n",
            "1250/1250 [==============================] - 35s 28ms/step - loss: 0.5428 - accuracy: 0.8102\n",
            "Epoch 10/20\n",
            "1250/1250 [==============================] - 36s 29ms/step - loss: 0.5123 - accuracy: 0.8222\n",
            "Epoch 11/20\n",
            "1250/1250 [==============================] - 37s 30ms/step - loss: 0.4839 - accuracy: 0.8309\n",
            "Epoch 12/20\n",
            "1250/1250 [==============================] - 35s 28ms/step - loss: 0.4567 - accuracy: 0.8411\n",
            "Epoch 13/20\n",
            "1250/1250 [==============================] - 36s 29ms/step - loss: 0.4341 - accuracy: 0.8488\n",
            "Epoch 14/20\n",
            "1250/1250 [==============================] - 36s 29ms/step - loss: 0.4136 - accuracy: 0.8566\n",
            "Epoch 15/20\n",
            "1250/1250 [==============================] - 35s 28ms/step - loss: 0.3922 - accuracy: 0.8615\n",
            "Epoch 16/20\n",
            "1250/1250 [==============================] - 36s 29ms/step - loss: 0.3767 - accuracy: 0.8686\n",
            "Epoch 17/20\n",
            "1250/1250 [==============================] - 36s 29ms/step - loss: 0.3567 - accuracy: 0.8763\n",
            "Epoch 18/20\n",
            "1250/1250 [==============================] - 36s 28ms/step - loss: 0.3403 - accuracy: 0.8804\n",
            "Epoch 19/20\n",
            "1250/1250 [==============================] - 36s 29ms/step - loss: 0.3301 - accuracy: 0.8841\n",
            "Epoch 20/20\n",
            "1250/1250 [==============================] - 36s 29ms/step - loss: 0.3134 - accuracy: 0.8915\n"
          ]
        }
      ],
      "source": [
        "import dask.array as da\n",
        "import dask.dataframe as dd\n",
        "from dask.distributed import Client, LocalCluster\n",
        "from sklearn.model_selection import train_test_split\n",
        "from tensorflow.keras.datasets import cifar10\n",
        "from sklearn.preprocessing import LabelEncoder\n",
        "\n",
        "# Convert labels to numerical encoding\n",
        "label_encoder = LabelEncoder()\n",
        "y_train_encoded = label_encoder.fit_transform(y_train.ravel())\n",
        "\n",
        "# Split data into train and validation sets\n",
        "X_train_split, X_val_split, y_train_split, y_val_split = train_test_split(X_train, y_train_encoded, test_size=0.2, random_state=42)\n",
        "\n",
        "# Create Dask arrays for training data\n",
        "X_train_dask = da.from_array(X_train_split, chunks='auto')\n",
        "y_train_dask = da.from_array(y_train_split, chunks='auto')\n",
        "\n",
        "if tf.test.gpu_device_name():\n",
        "    cnn.compile(optimizer='adam', loss='sparse_categorical_crossentropy', metrics=['accuracy'])\n",
        "    with tf.device('/GPU:0'):\n",
        "        cnn.fit(X_train_dask, y_train_dask, epochs=20)\n",
        "else:\n",
        "    print(\"GPU not found. Training on CPU.\")\n",
        "    cnn.compile(optimizer='adam', loss='sparse_categorical_crossentropy', metrics=['accuracy'])\n",
        "    cnn.fit(X_train_dask, y_train_dask, epochs=20)\n"
      ]
    },
    {
      "cell_type": "code",
      "execution_count": 18,
      "metadata": {
        "id": "2-dscIH52gSm",
        "scrolled": true,
        "colab": {
          "base_uri": "https://localhost:8080/"
        },
        "outputId": "7cb2616e-dc53-48a3-ae39-f359b5e7e963"
      },
      "outputs": [
        {
          "output_type": "stream",
          "name": "stdout",
          "text": [
            "313/313 [==============================] - 4s 11ms/step - loss: 1.0906 - accuracy: 0.7033\n"
          ]
        },
        {
          "output_type": "execute_result",
          "data": {
            "text/plain": [
              "[1.090557336807251, 0.7032999992370605]"
            ]
          },
          "metadata": {},
          "execution_count": 18
        }
      ],
      "source": [
        "cnn.evaluate(X_test,y_test)"
      ]
    },
    {
      "cell_type": "code",
      "execution_count": 19,
      "metadata": {
        "id": "oNdyZ2gN2gSn",
        "colab": {
          "base_uri": "https://localhost:8080/"
        },
        "outputId": "9475a1ff-bc75-4601-f0ff-e48b5f2c8e74"
      },
      "outputs": [
        {
          "output_type": "stream",
          "name": "stdout",
          "text": [
            "313/313 [==============================] - 3s 8ms/step\n"
          ]
        },
        {
          "output_type": "execute_result",
          "data": {
            "text/plain": [
              "array([[9.00838641e-05, 3.51352523e-11, 2.30172592e-08, 9.56921697e-01,\n",
              "        6.79951953e-08, 4.29600999e-02, 2.79238520e-05, 6.45672813e-08,\n",
              "        7.62496555e-09, 2.25187091e-11],\n",
              "       [7.93205459e-07, 2.30605601e-05, 4.41996717e-11, 1.07072878e-10,\n",
              "        7.42644314e-12, 2.97492152e-12, 1.38460687e-09, 2.04778428e-13,\n",
              "        9.99975681e-01, 4.55132692e-07],\n",
              "       [4.66552505e-04, 1.00667557e-05, 6.74259525e-07, 9.88894726e-07,\n",
              "        1.43988865e-08, 1.54240894e-07, 5.41814757e-07, 2.61980261e-07,\n",
              "        9.99514937e-01, 5.80713140e-06],\n",
              "       [6.47388518e-01, 7.08544712e-06, 3.24800494e-03, 1.47640108e-04,\n",
              "        5.34030318e-04, 1.97410976e-04, 2.53635117e-05, 1.36434719e-05,\n",
              "        3.48417222e-01, 2.11185688e-05],\n",
              "       [1.09442010e-06, 4.13360198e-07, 4.10859269e-04, 2.08336618e-02,\n",
              "        1.08727836e-04, 7.79641559e-05, 9.78567004e-01, 2.59229593e-09,\n",
              "        3.43383164e-07, 4.85947060e-09]], dtype=float32)"
            ]
          },
          "metadata": {},
          "execution_count": 19
        }
      ],
      "source": [
        "y_pred = cnn.predict(X_test)\n",
        "y_pred[:5]"
      ]
    },
    {
      "cell_type": "code",
      "execution_count": 20,
      "metadata": {
        "id": "MR64lLSt2gSn",
        "colab": {
          "base_uri": "https://localhost:8080/"
        },
        "outputId": "34c7334f-698d-435f-9126-6cafcd3bb7c2"
      },
      "outputs": [
        {
          "output_type": "execute_result",
          "data": {
            "text/plain": [
              "[3, 8, 8, 0, 6]"
            ]
          },
          "metadata": {},
          "execution_count": 20
        }
      ],
      "source": [
        "y_classes = [np.argmax(element) for element in y_pred]\n",
        "y_classes[:5]"
      ]
    },
    {
      "cell_type": "code",
      "execution_count": 21,
      "metadata": {
        "id": "FEi0RMjT2gSn",
        "colab": {
          "base_uri": "https://localhost:8080/"
        },
        "outputId": "82ee865d-734b-493c-a6f3-ce8e4a769da9"
      },
      "outputs": [
        {
          "output_type": "execute_result",
          "data": {
            "text/plain": [
              "array([3, 8, 8, 0, 6], dtype=uint8)"
            ]
          },
          "metadata": {},
          "execution_count": 21
        }
      ],
      "source": [
        "y_test[:5]"
      ]
    },
    {
      "cell_type": "code",
      "execution_count": 22,
      "metadata": {
        "id": "NauAO_lM2gSn",
        "colab": {
          "base_uri": "https://localhost:8080/",
          "height": 237
        },
        "outputId": "c67e17ad-6554-40d0-a0fa-53b906fa7f1e"
      },
      "outputs": [
        {
          "output_type": "display_data",
          "data": {
            "text/plain": [
              "<Figure size 1500x200 with 1 Axes>"
            ],
            "image/png": "[encoded data removed]"
          },
          "metadata": {}
        }
      ],
      "source": [
        "plot_sample(X_test, y_test,3)"
      ]
    },
    {
      "cell_type": "code",
      "execution_count": 23,
      "metadata": {
        "id": "Jh7EH9v12gSn",
        "colab": {
          "base_uri": "https://localhost:8080/",
          "height": 36
        },
        "outputId": "576c7355-e976-42ed-ac74-fb2b802c1ddf"
      },
      "outputs": [
        {
          "output_type": "execute_result",
          "data": {
            "text/plain": [
              "'airplane'"
            ],
            "application/vnd.google.colaboratory.intrinsic+json": {
              "type": "string"
            }
          },
          "metadata": {},
          "execution_count": 23
        }
      ],
      "source": [
        "classes[y_classes[3]]"
      ]
    },
    {
      "cell_type": "code",
      "execution_count": 24,
      "metadata": {
        "id": "b_DI2IOT2gSn",
        "colab": {
          "base_uri": "https://localhost:8080/",
          "height": 36
        },
        "outputId": "edbf7828-2ee2-4fa8-f702-13ddcca999c6"
      },
      "outputs": [
        {
          "output_type": "execute_result",
          "data": {
            "text/plain": [
              "'airplane'"
            ],
            "application/vnd.google.colaboratory.intrinsic+json": {
              "type": "string"
            }
          },
          "metadata": {},
          "execution_count": 24
        }
      ],
      "source": [
        "classes[y_classes[3]]"
      ]
    }
  ],
  "metadata": {
    "accelerator": "GPU",
    "colab": {
      "gpuType": "T4",
      "provenance": []
    },
    "kernelspec": {
      "display_name": "Python 3",
      "name": "python3"
    },
    "language_info": {
      "codemirror_mode": {
        "name": "ipython",
        "version": 3
      },
      "file_extension": ".py",
      "mimetype": "text/x-python",
      "name": "python",
      "nbconvert_exporter": "python",
      "pygments_lexer": "ipython3",
      "version": "3.10.5"
    }
  },
  "nbformat": 4,
  "nbformat_minor": 0
}